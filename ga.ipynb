{
 "cells": [
  {
   "cell_type": "markdown",
   "metadata": {},
   "source": [
    "# Genetic Algorithm Approach"
   ]
  },
  {
   "cell_type": "markdown",
   "metadata": {},
   "source": [
    "## Setup"
   ]
  },
  {
   "cell_type": "markdown",
   "metadata": {},
   "source": [
    "Import necessary libraries and load the dataset."
   ]
  },
  {
   "cell_type": "code",
   "execution_count": 40,
   "metadata": {},
   "outputs": [],
   "source": [
    "import networkx as nx\n",
    "import random\n",
    "import numpy as np\n",
    "from itertools import permutations"
   ]
  },
  {
   "cell_type": "code",
   "execution_count": null,
   "metadata": {},
   "outputs": [
    {
     "data": {
      "text/plain": [
       "NodeDataView({'Weinstadt': {'coordinates': [48.229499, 16.3503737], 'district': 9.0}, 'Klub Gru': {'coordinates': [48.2259316, 16.3640482], 'district': 9.0}, 'Glashütte': {'coordinates': [48.231651, 16.3531753], 'district': 9.0}, 'Das Torberg': {'coordinates': [48.2093928, 16.3486411], 'district': 8.0}, 'Mokador 8': {'coordinates': [48.2086782, 16.3391832], 'district': 8.0}, 'u.s.w.': {'coordinates': [48.2134974, 16.3518487], 'district': 8.0}, 'Pub by Charles': {'coordinates': [48.201731, 16.3361592], 'district': 15.0}, 'Hopfen-Stuben': {'coordinates': [48.1845364, 16.3294303], 'district': 15.0}, 'Café Amadeus': {'coordinates': [48.2006881, 16.3364734], 'district': 15.0}, 'Acabar': {'coordinates': [48.2010188, 16.3468921], 'district': 7.0}, 'Ganz Wien': {'coordinates': [48.1997809, 16.3506961], 'district': 7.0}, 'Café 7*stern': {'coordinates': [48.2020085, 16.3514354], 'district': 7.0}, 'Kerstin': {'coordinates': [48.2182281, 16.3875], 'district': 2.0}, 'Prater Dome': {'coordinates': [48.21743700686136, 16.397435959584712], 'district': 2.0}, 'Zum Schlauch': {'coordinates': [48.223566, 16.4014517], 'district': 2.0}, 'Oskar': {'coordinates': [48.2255281, 16.3448279], 'district': 18.0}, 'Bastille-Pub': {'coordinates': [48.2342786, 16.3232806], 'district': 18.0}, 'Gasthaus Manu': {'coordinates': [48.2303078, 16.3480379], 'district': 18.0}, 'Schlupfwinkel': {'coordinates': [48.1932065, 16.3628298], 'district': 4.0}, 'Wiener Blut': {'coordinates': [48.1988562, 16.3651722], 'district': 4.0}, 'Cafe Nest': {'coordinates': [48.1974109, 16.3660323], 'district': 4.0}, 'Derwisch': {'coordinates': [48.2075389, 16.3372619], 'district': 16.0}, 'Wirr am Brunnenmarkt': {'coordinates': [48.2134055, 16.3364574], 'district': 16.0}, 'Weberknecht': {'coordinates': [48.2102221, 16.3385611], 'district': 16.0}, \"Wind & Mill's\": {'coordinates': [48.1981588, 16.3557877], 'district': 6.0}, 'Miranda': {'coordinates': [48.1951404, 16.3518108], 'district': 6.0}, 'Top Kino Bar': {'coordinates': [48.2013509, 16.3615944], 'district': 6.0}, 'Rendezvous': {'coordinates': [48.1761806, 16.3675205], 'district': 10.0}, 'Mimi im Stadtelefant': {'coordinates': [48.179047, 16.3871196], 'district': 10.0}, \"Guggi's Beisl\": {'coordinates': [48.175807068116825, 16.359803073676712], 'district': 10.0}, 'Azul Bar': {'coordinates': [48.2082223, 16.3788961], 'district': 1.0}, 'Casablanca': {'coordinates': [48.2119116, 16.3753881], 'district': 1.0}, 'Slammerbar': {'coordinates': [48.2117525, 16.3748283], 'district': 1.0}, 'Red Lion': {'coordinates': [48.211562, 16.3895739], 'district': 3.0}, \"'s Stammbeisl\": {'coordinates': [48.2060233, 16.3865177], 'district': 3.0}, 'Bar Black Lounge': {'coordinates': [48.1958724, 16.3981282], 'district': 3.0}, 'Café Frog': {'coordinates': [48.1696942, 16.4217665], 'district': 11.0}, 'Gimlet': {'coordinates': [48.1859117, 16.4211799], 'district': 11.0}, 'Remi Demi': {'coordinates': [48.181836, 16.4090809], 'district': 11.0}, 'Espresso Slatki San': {'coordinates': [48.2171576, 16.3369622], 'district': 17.0}, 'Gerüchteküche': {'coordinates': [48.2238142, 16.3154469], 'district': 17.0}, 'Espresso Karawane': {'coordinates': [48.2170264, 16.3380155], 'district': 17.0}, \"Karin's Radlertreff\": {'coordinates': [48.27600110399192, 16.35547980013201], 'district': 19.0}, 'SLU-Bar': {'coordinates': [48.2360663, 16.3494061], 'district': 19.0}, 'Unders': {'coordinates': [48.2330272, 16.3542041], 'district': 19.0}, 'Couch Potato': {'coordinates': [48.2403309, 16.3852154], 'district': 20.0}, \"Steiner's Club Lounge\": {'coordinates': [48.2294676, 16.368161], 'district': 20.0}, 'K.St.V. Rhaetia': {'coordinates': [48.2283873, 16.3721417], 'district': 20.0}, 'Schaumweinhäuschen': {'coordinates': [48.1852274, 16.2996592], 'district': 13.0}, 'Schneider-Gössl Sektbar': {'coordinates': [48.1880272, 16.2669517], 'district': 13.0}, 'Kleine Ober St. Veiter Bierstube': {'coordinates': [48.1898635, 16.2678988], 'district': 13.0}, \"Gaby's Treff\": {'coordinates': [48.1936877, 16.2861942], 'district': 14.0}, 'Biergartl': {'coordinates': [48.202352, 16.3073467], 'district': 14.0}, 'The Twinspub': {'coordinates': [48.1975989, 16.2792505], 'district': 14.0}, 'Flokal': {'coordinates': [48.2769299, 16.4967574], 'district': 22.0}, \"Wistl's Cafe\": {'coordinates': [48.2345283, 16.4724299], 'district': 22.0}, \"Otti's Würstel Bar\": {'coordinates': [48.253427613931485, 16.448111036263683], 'district': 22.0}, 'Hinteralm': {'coordinates': [48.1853486, 16.3584693], 'district': 5.0}, 'Cafe Liquid': {'coordinates': [48.1917944, 16.3591202], 'district': 5.0}, 'The Little Stage': {'coordinates': [48.190014, 16.3554007], 'district': 5.0}, 'Stammersdorfer Hauptprostamt': {'coordinates': [48.301828199999996, 16.4104809], 'district': 21.0}, 'Star Voice Lounge': {'coordinates': [48.2602311, 16.3955848], 'district': 21.0}, 'USUS am Wasser': {'coordinates': [48.2409906, 16.398665], 'district': 21.0}, 'Schabernak': {'coordinates': [48.1517145, 16.2662165], 'district': 23.0}, 'Köö Billardcafe': {'coordinates': [48.1367485, 16.2801832], 'district': 23.0}, 'genussbar': {'coordinates': [48.1499732, 16.2686084], 'district': 23.0}, 'Die Mia': {'coordinates': [48.1689635, 16.3023945], 'district': 12.0}, 'Golden Harp Kaffeehaus': {'coordinates': [48.1751922, 16.3300829], 'district': 12.0}, 'das Hugo': {'coordinates': [48.1761058, 16.3300185], 'district': 12.0}})"
      ]
     },
     "execution_count": 17,
     "metadata": {},
     "output_type": "execute_result"
    }
   ],
   "source": [
    "g = nx.read_gml(\"seidel_rally_graph-12.gml\")\n",
    "g.nodes"
   ]
  },
  {
   "cell_type": "markdown",
   "metadata": {},
   "source": [
    "## Create initital Population"
   ]
  },
  {
   "cell_type": "code",
   "execution_count": 32,
   "metadata": {},
   "outputs": [],
   "source": [
    "def enumerate_reversed(l):\n",
    "    return zip(range(len(l)-1, -1, -1), reversed(l))"
   ]
  },
  {
   "cell_type": "code",
   "execution_count": null,
   "metadata": {},
   "outputs": [],
   "source": [
    "def init_pop(bar_graph, n_population):\n",
    "    \"\"\"\n",
    "    Generate a randomly initialized population of bar routes\n",
    "    Input:\n",
    "        1. bar_graph: Graph of all bars\n",
    "        2. n_population: Size of initial population\n",
    "    Output:\n",
    "        List of initial population\n",
    "    \"\"\"\n",
    "\n",
    "    population = []\n",
    "\n",
    "    for _ in range(n_population):\n",
    "        bar_selection = list(np.random.randint(low = 0, high = 3, size = 23))\n",
    "        print(bar_selection)\n",
    "        route = []\n",
    "\n",
    "        for idx, bar in enumerate_reversed(bar_selection):\n",
    "            selected_bar = [node for node, value in bar_graph.nodes(data=True) if value[\"district\"] == idx+1][bar]\n",
    "            route.append(selected_bar)\n",
    "\n",
    "        population.append(route)\n",
    "\n",
    "    return population"
   ]
  },
  {
   "cell_type": "markdown",
   "metadata": {},
   "source": [
    "## Create Fitness Function"
   ]
  },
  {
   "cell_type": "code",
   "execution_count": 46,
   "metadata": {},
   "outputs": [],
   "source": [
    "def total_distance(graph, route):\n",
    "    \"\"\"\n",
    "    Calculate total distance for a route.\n",
    "    Input:\n",
    "        graph: Graph of bars\n",
    "        route: List of visited bars\n",
    "    Output:\n",
    "        tot_dist: The total distance of the route\n",
    "    \"\"\"\n",
    "\n",
    "    tot_dist = 0\n",
    "    for i in range(23):\n",
    "        tot_dist += graph.get_edge_data(route[i], route[i+1])[\"weight\"]\n",
    "\n",
    "    return tot_dist"
   ]
  },
  {
   "cell_type": "code",
   "execution_count": null,
   "metadata": {},
   "outputs": [],
   "source": [
    "def fitness(graph, pop):\n",
    "    \"\"\"\n",
    "    Calculate fitness for each route.\n",
    "    Input: \n",
    "        graph: Graph of bars\n",
    "        pop: List of routes\n",
    "    Output:\n",
    "        pop_fit: List of fitness\n",
    "    \"\"\"\n",
    "    \n",
    "    pop_fit = []\n",
    "    for route in pop:\n",
    "        tot_dist = total_distance(graph, route)\n",
    "        pop.append(1 / tot_dist)\n",
    "\n",
    "    return pop_fit"
   ]
  },
  {
   "cell_type": "markdown",
   "metadata": {},
   "source": [
    "## Create Selection Process"
   ]
  },
  {
   "cell_type": "code",
   "execution_count": 48,
   "metadata": {},
   "outputs": [],
   "source": [
    "def roulette_wheel(pop_fitness):\n",
    "    \"\"\"\n",
    "    Create a roulette wheel that lets one random route survive.\n",
    "    Probability is based on fitness.\n",
    "    Input:\n",
    "        pop_fitness: List of fitness\n",
    "    Output:\n",
    "        idx: Index of surviving unit\n",
    "    \"\"\"\n",
    "\n",
    "    total_fitness = np.sum(pop_fitness)\n",
    "    surv_prob = [i / total_fitness for i in pop_fitness]\n",
    "\n",
    "    cumsum_surv_prob = np.cumsum(surv_prob)\n",
    "    selected_mask = cumsum_surv_prob < np.random.uniform(0, 1, 1)\n",
    "    idx = len(selected_mask[selected_mask == True]) - 1\n",
    "\n",
    "    return idx"
   ]
  },
  {
   "cell_type": "markdown",
   "metadata": {},
   "source": [
    "## Create Mutation Process"
   ]
  },
  {
   "cell_type": "code",
   "execution_count": 51,
   "metadata": {},
   "outputs": [],
   "source": [
    "def mutation(graph, population, prob):\n",
    "    \"\"\"\n",
    "    Mutate a random bar in a random district in each route by a certain probability.\n",
    "    Input:\n",
    "        graph: The graph containing the data\n",
    "        population: List containing the routes\n",
    "        prob: The porpability by which a mutation should happen\n",
    "    Output:\n",
    "        mutated_population: List containing the mutated routes\n",
    "    \"\"\"\n",
    "    \n",
    "    mutated_population = population.copy()\n",
    "    mutation_mask = prob < np.random.uniform(0, 1, len(population))\n",
    "    mutation_idx = np.argwhere(mutation_mask)\n",
    "\n",
    "    for idx in mutation_idx:\n",
    "        dist = np.random.randint(0, 23)\n",
    "        bar = np.random.randint(0, 3)\n",
    "        mutated_population[idx][dist] = graph.get_node_attribute(population[idx][dist])[bar]\n",
    "\n",
    "    return mutated_population\n",
    "        "
   ]
  },
  {
   "cell_type": "markdown",
   "metadata": {},
   "source": [
    "## Create Crossover Process"
   ]
  },
  {
   "cell_type": "code",
   "execution_count": 52,
   "metadata": {},
   "outputs": [],
   "source": [
    "def crossover(route_1, route_2):\n",
    "    \"\"\"\n",
    "    Swap two routes after cutoff\n",
    "    Input:\n",
    "        route_1: List of bars\n",
    "        route_2: Second list of bars\n",
    "    Output:\n",
    "        cross_1: New route\n",
    "        cross_2: Second new route\n",
    "    \"\"\"\n",
    "    \n",
    "    position = np.random.randint(0, 23)\n",
    "    cross_1 = route_1[:position + 1]\n",
    "    cross_2 = route_2[:position + 1]\n",
    "    cross_1 += route_2[position:]\n",
    "    cross_2 += route_1[position:]\n",
    "\n",
    "    return cross_1, cross_2"
   ]
  },
  {
   "cell_type": "markdown",
   "metadata": {},
   "source": [
    "## Putting it all together"
   ]
  },
  {
   "cell_type": "code",
   "execution_count": null,
   "metadata": {},
   "outputs": [],
   "source": []
  }
 ],
 "metadata": {
  "kernelspec": {
   "display_name": "Python 3",
   "language": "python",
   "name": "python3"
  },
  "language_info": {
   "codemirror_mode": {
    "name": "ipython",
    "version": 3
   },
   "file_extension": ".py",
   "mimetype": "text/x-python",
   "name": "python",
   "nbconvert_exporter": "python",
   "pygments_lexer": "ipython3",
   "version": "3.11.9"
  }
 },
 "nbformat": 4,
 "nbformat_minor": 2
}
