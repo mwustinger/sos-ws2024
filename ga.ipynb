{
 "cells": [
  {
   "cell_type": "markdown",
   "metadata": {},
   "source": [
    "# Genetic Algorithm Approach"
   ]
  },
  {
   "cell_type": "markdown",
   "metadata": {},
   "source": [
    "## Setup"
   ]
  },
  {
   "cell_type": "markdown",
   "metadata": {},
   "source": [
    "Import necessary libraries and load the dataset."
   ]
  },
  {
   "cell_type": "code",
   "execution_count": 1,
   "metadata": {},
   "outputs": [],
   "source": [
    "import networkx as nx\n",
    "import random\n",
    "import numpy as np\n",
    "from itertools import permutations\n",
    "from tqdm import tqdm\n",
    "import copy"
   ]
  },
  {
   "cell_type": "code",
   "execution_count": 2,
   "metadata": {},
   "outputs": [
    {
     "data": {
      "text/plain": [
       "NodeView(('Weinstadt', 'Klub Gru', 'Glashütte', 'Das Torberg', 'Mokador 8', 'u.s.w.', 'Pub by Charles', 'Hopfen-Stuben', 'Café Amadeus', 'Acabar', 'Ganz Wien', 'Café 7*stern', 'Kerstin', 'Prater Dome', 'Zum Schlauch', 'Oskar', 'Bastille-Pub', 'Gasthaus Manu', 'Schlupfwinkel', 'Wiener Blut', 'Cafe Nest', 'Derwisch', 'Wirr am Brunnenmarkt', 'Weberknecht', \"Wind & Mill's\", 'Miranda', 'Top Kino Bar', 'Rendezvous', 'Mimi im Stadtelefant', \"Guggi's Beisl\", 'Azul Bar', 'Casablanca', 'Slammerbar', 'Red Lion', \"'s Stammbeisl\", 'Bar Black Lounge', 'Café Frog', 'Gimlet', 'Remi Demi', 'Espresso Slatki San', 'Gerüchteküche', 'Espresso Karawane', \"Karin's Radlertreff\", 'SLU-Bar', 'Unders', 'Couch Potato', \"Steiner's Club Lounge\", 'K.St.V. Rhaetia', 'Schaumweinhäuschen', 'Schneider-Gössl Sektbar', 'Kleine Ober St. Veiter Bierstube', \"Gaby's Treff\", 'Biergartl', 'The Twinspub', 'Flokal', \"Wistl's Cafe\", \"Otti's Würstel Bar\", 'Hinteralm', 'Cafe Liquid', 'The Little Stage', 'Stammersdorfer Hauptprostamt', 'Star Voice Lounge', 'USUS am Wasser', 'Schabernak', 'Köö Billardcafe', 'genussbar', 'Die Mia', 'Golden Harp Kaffeehaus', 'das Hugo'))"
      ]
     },
     "execution_count": 2,
     "metadata": {},
     "output_type": "execute_result"
    }
   ],
   "source": [
    "g = nx.read_gml(\"./graphs/seidel_rally_graph-12.gml\")\n",
    "g.nodes"
   ]
  },
  {
   "cell_type": "markdown",
   "metadata": {},
   "source": [
    "## Create initital Population"
   ]
  },
  {
   "cell_type": "code",
   "execution_count": 3,
   "metadata": {},
   "outputs": [],
   "source": [
    "def enumerate_reversed(l):\n",
    "    return zip(range(len(l)-1, -1, -1), reversed(l))"
   ]
  },
  {
   "cell_type": "code",
   "execution_count": 4,
   "metadata": {},
   "outputs": [],
   "source": [
    "def init_pop(bar_graph, n_population):\n",
    "    \"\"\"\n",
    "    Generate a randomly initialized population of bar routes\n",
    "    Input:\n",
    "        1. bar_graph: Graph of all bars\n",
    "        2. n_population: Size of initial population\n",
    "    Output:\n",
    "        List of initial population\n",
    "    \"\"\"\n",
    "\n",
    "    population = []\n",
    "\n",
    "    for _ in range(n_population):\n",
    "        route = []\n",
    "\n",
    "        for idx in range(23, 0, -1):\n",
    "            district_bars = [node for node, value in bar_graph.nodes(data=True) if value[\"district\"] == idx]\n",
    "            selected_bar = np.random.choice(district_bars)\n",
    "            route.append(selected_bar)\n",
    "\n",
    "        population.append(route)\n",
    "    \n",
    "    return population"
   ]
  },
  {
   "cell_type": "markdown",
   "metadata": {},
   "source": [
    "## Create Fitness Function"
   ]
  },
  {
   "cell_type": "code",
   "execution_count": 5,
   "metadata": {},
   "outputs": [],
   "source": [
    "def total_distance(graph, route):\n",
    "    \"\"\"\n",
    "    Calculate total distance for a route.\n",
    "    Input:\n",
    "        graph: Graph of bars\n",
    "        route: List of visited bars\n",
    "    Output:\n",
    "        tot_dist: The total distance of the route\n",
    "    \"\"\"\n",
    "\n",
    "    tot_dist = 0\n",
    "    for i in range(22):\n",
    "        tot_dist += graph.get_edge_data(route[i], route[i+1])[\"weight\"]\n",
    "    \n",
    "    return tot_dist"
   ]
  },
  {
   "cell_type": "code",
   "execution_count": 6,
   "metadata": {},
   "outputs": [],
   "source": [
    "def fitness(graph, pop):\n",
    "    \"\"\"\n",
    "    Calculate fitness for each route.\n",
    "    Input: \n",
    "        graph: Graph of bars\n",
    "        pop: List of routes\n",
    "    Output:\n",
    "        pop_fit: List of fitness\n",
    "    \"\"\"\n",
    "    \n",
    "    pop_fit = []\n",
    "    for route in pop:\n",
    "        tot_dist = total_distance(graph, route)\n",
    "        pop_fit.append(1 / tot_dist)\n",
    "\n",
    "    return pop_fit"
   ]
  },
  {
   "cell_type": "markdown",
   "metadata": {},
   "source": [
    "## Create Selection Process"
   ]
  },
  {
   "cell_type": "code",
   "execution_count": 7,
   "metadata": {},
   "outputs": [],
   "source": [
    "def roulette_wheel(pop_fitness, size_perc):\n",
    "    \"\"\"\n",
    "    Create a roulette wheel that lets one random route survive.\n",
    "    Probability is based on fitness.\n",
    "    Input:\n",
    "        pop_fitness: List of fitness\n",
    "        size_perc: Percentage of population to select\n",
    "    Output:\n",
    "        idx: List of indexes of surviving units\n",
    "    \"\"\"\n",
    "\n",
    "    population_fitness = np.array(pop_fitness)\n",
    "    total_fitness = np.sum(pop_fitness)\n",
    "    surv_prob = population_fitness / total_fitness\n",
    "\n",
    "    cumsum_surv_prob = np.cumsum(surv_prob)\n",
    "\n",
    "    idx = []\n",
    "    for i in range(int(len(population_fitness) * size_perc)):\n",
    "        rand_val = np.random.uniform(0, 1)\n",
    "        selected_idx = np.where(cumsum_surv_prob >= rand_val)[0][0]\n",
    "        idx.append(selected_idx)\n",
    "\n",
    "    return idx"
   ]
  },
  {
   "cell_type": "markdown",
   "metadata": {},
   "source": [
    "## Create Mutation Process"
   ]
  },
  {
   "cell_type": "code",
   "execution_count": 8,
   "metadata": {},
   "outputs": [],
   "source": [
    "def mutation(graph, population, prob):\n",
    "    \"\"\"\n",
    "    Mutate a random bar in a random district in each route by a certain probability.\n",
    "    Input:\n",
    "        graph: The graph containing the data\n",
    "        population: List containing the routes\n",
    "        prob: The porpability by which a mutation should happen\n",
    "    Output:\n",
    "        mutated_population: List containing the mutated routes\n",
    "    \"\"\"\n",
    "    \n",
    "    mutated_population = copy.deepcopy(population)\n",
    "    mutation_mask = prob > np.random.uniform(0, 1, len(population))\n",
    "    mutation_idx = np.argwhere(mutation_mask).flatten()\n",
    "    dist_idx = list(range(23, 0, -1))\n",
    "\n",
    "    for idx in mutation_idx:\n",
    "        dist = np.random.randint(1, 24)\n",
    "        dist_i = dist_idx[dist-1]\n",
    "        \n",
    "        current_bar = mutated_population[idx][dist_i-1]\n",
    "        dist_bars = [node for node, value in graph.nodes(data=True) if value[\"district\"] == dist]\n",
    "\n",
    "        mutated_population[idx][dist_i-1] = np.random.choice([loc for loc in dist_bars if loc != current_bar])\n",
    "\n",
    "    return mutated_population\n",
    "        "
   ]
  },
  {
   "cell_type": "markdown",
   "metadata": {},
   "source": [
    "## Create Crossover Process"
   ]
  },
  {
   "cell_type": "code",
   "execution_count": 9,
   "metadata": {},
   "outputs": [],
   "source": [
    "def crossover(route_1, route_2):\n",
    "    \"\"\"\n",
    "    Swap two routes after cutoff\n",
    "    Input:\n",
    "        route_1: List of bars\n",
    "        route_2: Second list of bars\n",
    "    Output:\n",
    "        cross_1: New route\n",
    "        cross_2: Second new route\n",
    "    \"\"\"\n",
    "    \n",
    "    cross_1 = []\n",
    "    cross_2 = []\n",
    "    for loc_1, loc_2 in zip(route_1, route_2):\n",
    "        if np.random.rand() > 0.5:\n",
    "            cross_1.append(loc_1)\n",
    "            cross_2.append(loc_2)\n",
    "        else:\n",
    "            cross_1.append(loc_2)\n",
    "            cross_2.append(loc_1)\n",
    "\n",
    "    return cross_1, cross_2"
   ]
  },
  {
   "cell_type": "markdown",
   "metadata": {},
   "source": [
    "## Putting it all together"
   ]
  },
  {
   "cell_type": "code",
   "execution_count": 10,
   "metadata": {},
   "outputs": [],
   "source": [
    "def seidel_ralley_ga(bar_graph, epochs, n_pop, crossover_perc, mutation_prob):\n",
    "    #create initial population\n",
    "    population = init_pop(bar_graph, n_pop)\n",
    "\n",
    "    for epoch in tqdm(range(epochs)):\n",
    "        #get fitness of current population\n",
    "        pop_fitness = fitness(bar_graph, population)\n",
    "\n",
    "        #run selection process\n",
    "        parents_idx = roulette_wheel(pop_fitness, crossover_perc)\n",
    "\n",
    "        #run crossover\n",
    "        children = []\n",
    "        num_children = int(n_pop * crossover_perc)\n",
    "        if num_children % 2 == 1:\n",
    "            num_children -= 1\n",
    "        for i in range(0, num_children, 2):\n",
    "            child1, child2 = crossover(population[parents_idx[i]], population[parents_idx[i+1]])\n",
    "            children.extend([child1, child2])\n",
    "        \n",
    "        #run mutation\n",
    "        mutated_children = mutation(bar_graph, children, 0.05)\n",
    "\n",
    "        #replace part of the population\n",
    "        pop_fit_sort_idx = np.argsort(pop_fitness)[::-1]\n",
    "        elite = [population[j] for j in pop_fit_sort_idx[:n_pop - len(mutated_children)]]\n",
    "\n",
    "        mutated_children.extend(elite)\n",
    "        population = mutated_children\n",
    "        \n",
    "    return population"
   ]
  },
  {
   "cell_type": "code",
   "execution_count": null,
   "metadata": {},
   "outputs": [
    {
     "name": "stderr",
     "output_type": "stream",
     "text": [
      "100%|██████████| 50/50 [00:00<00:00, 142.05it/s]\n"
     ]
    }
   ],
   "source": [
    "best_gen = seidel_ralley_ga(g, 50, 200, 0.8, 0.05)\n",
    "pop_fitness = fitness(g, best_gen)"
   ]
  },
  {
   "cell_type": "code",
   "execution_count": 12,
   "metadata": {},
   "outputs": [
    {
     "data": {
      "text/plain": [
       "23061.0"
      ]
     },
     "execution_count": 12,
     "metadata": {},
     "output_type": "execute_result"
    }
   ],
   "source": [
    "best_solution_idx = np.argsort(pop_fitness)[::-1]\n",
    "best_solution = best_gen[best_solution_idx[0]]\n",
    "distance = total_distance(g, best_solution)\n",
    "distance"
   ]
  },
  {
   "cell_type": "code",
   "execution_count": 13,
   "metadata": {},
   "outputs": [
    {
     "name": "stdout",
     "output_type": "stream",
     "text": [
      "Köö Billardcafe [23.0]\n",
      "Otti's Würstel Bar [22.0]\n",
      "Star Voice Lounge [21.0]\n",
      "Couch Potato [20.0]\n",
      "SLU-Bar [19.0]\n",
      "Gasthaus Manu [18.0]\n",
      "Espresso Karawane [17.0]\n",
      "Derwisch [16.0]\n",
      "Pub by Charles [15.0]\n",
      "Gaby's Treff [14.0]\n",
      "Schaumweinhäuschen [13.0]\n",
      "Golden Harp Kaffeehaus [12.0]\n",
      "Café Frog [11.0]\n",
      "Mimi im Stadtelefant [10.0]\n",
      "Klub Gru [9.0]\n",
      "Das Torberg [8.0]\n",
      "Café 7*stern [7.0]\n",
      "Miranda [6.0]\n",
      "Cafe Liquid [5.0]\n",
      "Cafe Nest [4.0]\n",
      "'s Stammbeisl [3.0]\n",
      "Kerstin [2.0]\n",
      "Casablanca [1.0]\n"
     ]
    }
   ],
   "source": [
    "for bar in best_solution:\n",
    "    print(bar, [value[\"district\"] for node, value in g.nodes(data=True) if node == bar])"
   ]
  },
  {
   "cell_type": "code",
   "execution_count": null,
   "metadata": {},
   "outputs": [],
   "source": []
  }
 ],
 "metadata": {
  "kernelspec": {
   "display_name": "Python 3",
   "language": "python",
   "name": "python3"
  },
  "language_info": {
   "codemirror_mode": {
    "name": "ipython",
    "version": 3
   },
   "file_extension": ".py",
   "mimetype": "text/x-python",
   "name": "python",
   "nbconvert_exporter": "python",
   "pygments_lexer": "ipython3",
   "version": "3.11.9"
  }
 },
 "nbformat": 4,
 "nbformat_minor": 2
}
