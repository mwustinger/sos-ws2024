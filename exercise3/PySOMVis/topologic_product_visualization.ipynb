{
 "cells": [
  {
   "cell_type": "markdown",
   "id": "812c80bd-9e16-4749-81bd-f998c003417d",
   "metadata": {},
   "source": [
    "# Topologic Product"
   ]
  },
  {
   "cell_type": "code",
   "execution_count": null,
   "id": "5aae12e5-a760-4110-8a1c-aa6cff236be0",
   "metadata": {},
   "outputs": [
    {
     "name": "stdout",
     "output_type": "stream",
     "text": [
      " [ 11182 / 30000 ]  37% - 0:00:08 left "
     ]
    }
   ],
   "source": [
    "# Read data from Java SOMToolbox\n",
    "from SOMToolBox_Parse import SOMToolBox_Parse\n",
    "idata   = SOMToolBox_Parse(\"./datasets/chainlink/chainlink.vec\").read_weight_file()\n",
    "weights = SOMToolBox_Parse(\"./datasets/chainlink/chainlink.wgt.gz\").read_weight_file()\n",
    "classes = SOMToolBox_Parse(\"./datasets/chainlink/chainlink.cls\").read_weight_file()\n",
    "\n",
    "from pysomvis import PySOMVis\n",
    "from minisom import MiniSom    \n",
    "\n",
    "som = MiniSom(100, 60, 3, sigma=20, learning_rate=0.7)\n",
    "som.train(idata['arr'], 30000, random_order=True, verbose=True)\n",
    "\n",
    "vis = PySOMVis(weights=som._weights, input_data=idata['arr'])\n",
    "vis._mainview"
   ]
  },
  {
   "cell_type": "code",
   "execution_count": 3,
   "id": "4352b6fc-28bf-4561-8fee-8aae06020940",
   "metadata": {},
   "outputs": [
    {
     "name": "stdout",
     "output_type": "stream",
     "text": [
      "0.930867915616278\n",
      "0.9374255250612261\n",
      "1.0175229537399193\n",
      "1.1117502412605769\n",
      "1.1635121235949275\n",
      "1.084935485547757\n",
      "1.0803640031582804\n",
      "1.081765735037708\n",
      "0.9929229703427627\n",
      "0.9732884280544166\n",
      "1.0\n",
      "1.011238544531744\n",
      "1.0520348812087734\n",
      "1.091029133265906\n",
      "1.081514426466914\n",
      "1.072350452478699\n",
      "1.0793107987096973\n",
      "1.0693526086522467\n",
      "1.062918998931997\n",
      "0.9783583915421413\n",
      "0.9433679114923716\n",
      "1.110583941835465\n",
      "1.1028487849626885\n",
      "1.078292901355676\n",
      "1.1276348530194265\n",
      "1.117823851847104\n",
      "1.1112940854194089\n",
      "1.0605202024419682\n",
      "1.0575763385927621\n",
      "1.058981442927596\n",
      "0.9391772216319365\n",
      "1.0845112473203842\n",
      "1.0817565231447595\n",
      "1.1188912401689532\n",
      "1.1053970863502276\n",
      "1.0981971741866388\n",
      "1.0931656874642182\n",
      "1.094302667462056\n",
      "1.0532533717238481\n",
      "1.0566837454924847\n",
      "1.0269307735503626\n",
      "1.0261932394782054\n",
      "1.076112303565276\n",
      "1.0662013127007282\n",
      "1.1197318780738774\n",
      "1.1072059108281151\n",
      "1.1017944753293418\n",
      "1.1045044910262407\n",
      "1.052704713681705\n",
      "1.0038950838275849\n",
      "0.9021271033531914\n",
      "1.0749562087026359\n",
      "1.1438187523474184\n",
      "1.1212636486862828\n",
      "1.104461234531584\n",
      "1.1419949448606972\n",
      "1.129694872778699\n",
      "1.20374282299423\n",
      "1.1011812791414608\n",
      "0.9661025568612175\n"
     ]
    }
   ],
   "source": [
    "from topologic_product_calc import TopologicProductCalculator\n",
    "\n",
    "tpc = TopologicProductCalculator(som)\n",
    "for x in range(60):\n",
    "    for y in range(100):\n",
    "        print(tpc.P3(x, y, 4))"
   ]
  },
  {
   "cell_type": "code",
   "execution_count": null,
   "id": "0063833a-a549-4dd0-bd7c-bc649693bb4f",
   "metadata": {},
   "outputs": [],
   "source": []
  }
 ],
 "metadata": {
  "kernelspec": {
   "display_name": "Python 3 (ipykernel)",
   "language": "python",
   "name": "python3"
  },
  "language_info": {
   "codemirror_mode": {
    "name": "ipython",
    "version": 3
   },
   "file_extension": ".py",
   "mimetype": "text/x-python",
   "name": "python",
   "nbconvert_exporter": "python",
   "pygments_lexer": "ipython3",
   "version": "3.8.20"
  }
 },
 "nbformat": 4,
 "nbformat_minor": 5
}
