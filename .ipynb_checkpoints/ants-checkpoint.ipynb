{
 "cells": [
  {
   "cell_type": "markdown",
   "metadata": {
    "collapsed": false,
    "jupyter": {
     "outputs_hidden": false
    }
   },
   "source": [
    "## Setup"
   ]
  },
  {
   "cell_type": "code",
   "execution_count": 2,
   "metadata": {
    "collapsed": false,
    "jupyter": {
     "outputs_hidden": false
    }
   },
   "outputs": [],
   "source": [
    "import networkx as nx"
   ]
  },
  {
   "cell_type": "markdown",
   "metadata": {},
   "source": [
    "# Ant Colony Optimization"
   ]
  },
  {
   "cell_type": "code",
   "execution_count": 5,
   "metadata": {},
   "outputs": [
    {
     "data": {
      "text/plain": [
       "NodeView(('Weinstadt', 'Klub Gru', 'Glashütte', 'Das Torberg', 'Mokador 8', 'u.s.w.', 'Pub by Charles', 'Hopfen-Stuben', 'Café Amadeus', 'Acabar', 'Ganz Wien', 'Café 7*stern', 'Kerstin', 'Prater Dome', 'Zum Schlauch', 'Oskar', 'Bastille-Pub', 'Gasthaus Manu', 'Schlupfwinkel', 'Wiener Blut', 'Cafe Nest', 'Derwisch', 'Wirr am Brunnenmarkt', 'Weberknecht', \"Wind & Mill's\", 'Miranda', 'Top Kino Bar', 'Rendezvous', 'Mimi im Stadtelefant', \"Guggi's Beisl\", 'Azul Bar', 'Casablanca', 'Slammerbar', 'Red Lion', \"'s Stammbeisl\", 'Bar Black Lounge', 'Café Frog', 'Gimlet', 'Remi Demi', 'Espresso Slatki San', 'Gerüchteküche', 'Espresso Karawane', \"Karin's Radlertreff\", 'SLU-Bar', 'Unders', 'Couch Potato', \"Steiner's Club Lounge\", 'K.St.V. Rhaetia', 'Schaumweinhäuschen', 'Schneider-Gössl Sektbar', 'Kleine Ober St. Veiter Bierstube', \"Gaby's Treff\", 'Biergartl', 'The Twinspub', 'Flokal', \"Wistl's Cafe\", \"Otti's Würstel Bar\", 'Hinteralm', 'Cafe Liquid', 'The Little Stage', 'Stammersdorfer Hauptprostamt', 'Star Voice Lounge', 'USUS am Wasser', 'Schabernak', 'Köö Billardcafe', 'genussbar', 'Die Mia', 'Golden Harp Kaffeehaus', 'das Hugo'))"
      ]
     },
     "execution_count": 5,
     "metadata": {},
     "output_type": "execute_result"
    }
   ],
   "source": [
    "g = nx.read_gml(\"seidel_rally_graph-12.gml\")\n",
    "g.nodes"
   ]
  }
 ],
 "metadata": {
  "kernelspec": {
   "display_name": "Python 3 (ipykernel)",
   "language": "python",
   "name": "python3"
  },
  "language_info": {
   "codemirror_mode": {
    "name": "ipython",
    "version": 3
   },
   "file_extension": ".py",
   "mimetype": "text/x-python",
   "name": "python",
   "nbconvert_exporter": "python",
   "pygments_lexer": "ipython3",
   "version": "3.12.4"
  }
 },
 "nbformat": 4,
 "nbformat_minor": 4
}
